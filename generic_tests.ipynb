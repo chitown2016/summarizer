{
 "cells": [
  {
   "cell_type": "code",
   "execution_count": 5,
   "id": "c02b32cb",
   "metadata": {},
   "outputs": [],
   "source": [
    "from youtube_transcript_api import YouTubeTranscriptApi\n",
    "from youtube_transcript_api.proxies import WebshareProxyConfig\n",
    "\n",
    "# ytt_api = YouTubeTranscriptApi()\n",
    "\n",
    "ytt_api = YouTubeTranscriptApi(\n",
    "    proxy_config=WebshareProxyConfig(\n",
    "        proxy_username=\"spsdiwcd\",\n",
    "        proxy_password=\"tc6oi1ejn932\",\n",
    "    )\n",
    ")\n",
    "\n",
    "# all requests done by ytt_api will now be proxied through Webshare\n",
    "fetched_transcript = ytt_api.fetch('wcD4S7mNbE8')\n",
    "\n"
   ]
  },
  {
   "cell_type": "code",
   "execution_count": 7,
   "id": "9aa76a5f",
   "metadata": {},
   "outputs": [],
   "source": [
    "raw_data = fetched_transcript.to_raw_data()"
   ]
  },
  {
   "cell_type": "code",
   "execution_count": 9,
   "id": "bd66ec8e",
   "metadata": {},
   "outputs": [
    {
     "data": {
      "text/plain": [
       "{'text': 'Thanks for having me. This was fun.',\n",
       " 'start': 4643.36,\n",
       " 'duration': 10.8}"
      ]
     },
     "execution_count": 9,
     "metadata": {},
     "output_type": "execute_result"
    }
   ],
   "source": [
    "raw_data[-2]"
   ]
  },
  {
   "cell_type": "code",
   "execution_count": 3,
   "id": "83ea3241",
   "metadata": {},
   "outputs": [
    {
     "ename": "ParseError",
     "evalue": "no element found: line 1, column 0 (<string>)",
     "output_type": "error",
     "traceback": [
      "Traceback \u001b[36m(most recent call last)\u001b[39m:\n",
      "  File \u001b[92mc:\\Users\\mtulum\\anaconda3\\envs\\youtube-summarizer\\Lib\\site-packages\\IPython\\core\\interactiveshell.py:3699\u001b[39m in \u001b[95mrun_code\u001b[39m\n    exec(code_obj, self.user_global_ns, self.user_ns)\n",
      "  Cell \u001b[92mIn[3]\u001b[39m\u001b[92m, line 5\u001b[39m\n    docs = loader.load()\n",
      "  File \u001b[92mc:\\Users\\mtulum\\anaconda3\\envs\\youtube-summarizer\\Lib\\site-packages\\langchain_community\\document_loaders\\youtube.py:215\u001b[39m in \u001b[95mload\u001b[39m\n    transcript_pieces = transcript.fetch()\n",
      "  File \u001b[92mc:\\Users\\mtulum\\anaconda3\\envs\\youtube-summarizer\\Lib\\site-packages\\youtube_transcript_api\\_transcripts.py:292\u001b[39m in \u001b[95mfetch\u001b[39m\n    return _TranscriptParser(preserve_formatting=preserve_formatting).parse(\n",
      "  File \u001b[92mc:\\Users\\mtulum\\anaconda3\\envs\\youtube-summarizer\\Lib\\site-packages\\youtube_transcript_api\\_transcripts.py:358\u001b[39m in \u001b[95mparse\u001b[39m\n    for xml_element in ElementTree.fromstring(plain_data)\n",
      "\u001b[36m  \u001b[39m\u001b[36mFile \u001b[39m\u001b[32mc:\\Users\\mtulum\\anaconda3\\envs\\youtube-summarizer\\Lib\\xml\\etree\\ElementTree.py:1351\u001b[39m\u001b[36m in \u001b[39m\u001b[35mXML\u001b[39m\n\u001b[31m    \u001b[39m\u001b[31mreturn parser.close()\u001b[39m\n",
      "  \u001b[36mFile \u001b[39m\u001b[32m<string>\u001b[39m\n\u001b[31mParseError\u001b[39m\u001b[31m:\u001b[39m no element found: line 1, column 0\n"
     ]
    }
   ],
   "source": [
    "from langchain_community.document_loaders import YoutubeLoader\n",
    "\n",
    "url = \"https://www.youtube.com/watch?v=wcD4S7mNbE8\"\n",
    "loader = YoutubeLoader.from_youtube_url(url)\n",
    "docs = loader.load()\n",
    "\n",
    "for doc in docs:\n",
    "    print(doc.page_content)\n"
   ]
  }
 ],
 "metadata": {
  "kernelspec": {
   "display_name": "youtube-summarizer",
   "language": "python",
   "name": "python3"
  },
  "language_info": {
   "codemirror_mode": {
    "name": "ipython",
    "version": 3
   },
   "file_extension": ".py",
   "mimetype": "text/x-python",
   "name": "python",
   "nbconvert_exporter": "python",
   "pygments_lexer": "ipython3",
   "version": "3.11.13"
  }
 },
 "nbformat": 4,
 "nbformat_minor": 5
}
